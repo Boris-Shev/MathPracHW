{
 "cells": [
  {
   "cell_type": "markdown",
   "id": "04efc090",
   "metadata": {},
   "source": [
    "# Fullname and Email"
   ]
  },
  {
   "cell_type": "code",
   "execution_count": 1,
   "id": "f24c004a",
   "metadata": {},
   "outputs": [],
   "source": [
    "class Test:\n",
    "    @staticmethod\n",
    "    def assert_equals(a, b, *args, **kwargs):\n",
    "        assert a == b\n",
    "        print('Passed')"
   ]
  },
  {
   "cell_type": "markdown",
   "id": "cb359eef",
   "metadata": {},
   "source": [
    "https://edabit.com/challenge/gB7nt6WzZy8TymCah (2 point)"
   ]
  },
  {
   "cell_type": "code",
   "execution_count": 8,
   "id": "8a48f4d6",
   "metadata": {},
   "outputs": [],
   "source": [
    "class Employee:\n",
    "    def __init__(self, first, last):\n",
    "        self.firstname = first\n",
    "        self.lastname = last\n",
    "        self.fullname = first + \" \" + last\n",
    "        self.email = first[0].lower() + first[1:] + \".\" + last[0].lower()\n",
    "        self.email += last[1:] + \"@company.com\""
   ]
  },
  {
   "cell_type": "code",
   "execution_count": 9,
   "id": "0c5b1ccb",
   "metadata": {},
   "outputs": [
    {
     "name": "stdout",
     "output_type": "stream",
     "text": [
      "Passed\n",
      "Passed\n",
      "Passed\n",
      "Passed\n",
      "Passed\n",
      "Passed\n",
      "Passed\n",
      "Passed\n",
      "Passed\n",
      "Passed\n",
      "Passed\n",
      "Passed\n",
      "Passed\n",
      "Passed\n",
      "Passed\n",
      "Passed\n"
     ]
    }
   ],
   "source": [
    "emp_1 = Employee(\"John\", \"Smith\")\n",
    "emp_2 = Employee(\"Mary\",  \"Sue\")\n",
    "emp_3 = Employee(\"Antony\", \"Walker\")\n",
    "emp_4 = Employee(\"Joshua\", \"Senoron\")\n",
    "\n",
    "Test.assert_equals(emp_1.firstname, \"John\")\n",
    "Test.assert_equals(emp_1.lastname, \"Smith\")\n",
    "Test.assert_equals(emp_1.fullname, \"John Smith\")\n",
    "Test.assert_equals(emp_1.email, \"john.smith@company.com\")\n",
    "Test.assert_equals(emp_2.firstname, \"Mary\")\n",
    "Test.assert_equals(emp_2.lastname, \"Sue\")\n",
    "Test.assert_equals(emp_2.fullname, \"Mary Sue\")\n",
    "Test.assert_equals(emp_2.email, \"mary.sue@company.com\")\n",
    "Test.assert_equals(emp_3.firstname, \"Antony\")\n",
    "Test.assert_equals(emp_3.lastname, \"Walker\")\n",
    "Test.assert_equals(emp_3.fullname, \"Antony Walker\")\n",
    "Test.assert_equals(emp_3.email, \"antony.walker@company.com\")\n",
    "Test.assert_equals(emp_4.firstname, \"Joshua\")\n",
    "Test.assert_equals(emp_4.lastname, \"Senoron\")\n",
    "Test.assert_equals(emp_4.fullname, \"Joshua Senoron\")\n",
    "Test.assert_equals(emp_4.email, \"joshua.senoron@company.com\")"
   ]
  },
  {
   "cell_type": "code",
   "execution_count": null,
   "id": "1cf77202",
   "metadata": {},
   "outputs": [],
   "source": []
  }
 ],
 "metadata": {
  "kernelspec": {
   "display_name": "Python 3 (ipykernel)",
   "language": "python",
   "name": "python3"
  },
  "language_info": {
   "codemirror_mode": {
    "name": "ipython",
    "version": 3
   },
   "file_extension": ".py",
   "mimetype": "text/x-python",
   "name": "python",
   "nbconvert_exporter": "python",
   "pygments_lexer": "ipython3",
   "version": "3.9.12"
  }
 },
 "nbformat": 4,
 "nbformat_minor": 5
}
