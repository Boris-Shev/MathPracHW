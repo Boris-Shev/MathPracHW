{
 "cells": [
  {
   "cell_type": "markdown",
   "id": "04efc090",
   "metadata": {},
   "source": [
    "# How Many Vowels?"
   ]
  },
  {
   "cell_type": "code",
   "execution_count": 3,
   "id": "f24c004a",
   "metadata": {},
   "outputs": [],
   "source": [
    "class Test:\n",
    "    @staticmethod\n",
    "    def assert_equals(a, b, *args, **kwargs):\n",
    "        assert a == b\n",
    "        print('Passed')"
   ]
  },
  {
   "cell_type": "markdown",
   "id": "cb359eef",
   "metadata": {},
   "source": [
    " https://edabit.com/challenge/p88k8yHRPTMPt4bBo (1 point)"
   ]
  },
  {
   "cell_type": "code",
   "execution_count": 5,
   "id": "8a48f4d6",
   "metadata": {},
   "outputs": [
    {
     "ename": "SyntaxError",
     "evalue": "invalid syntax (4047126702.py, line 5)",
     "output_type": "error",
     "traceback": [
      "\u001b[1;36m  Input \u001b[1;32mIn [5]\u001b[1;36m\u001b[0m\n\u001b[1;33m    count++\u001b[0m\n\u001b[1;37m           ^\u001b[0m\n\u001b[1;31mSyntaxError\u001b[0m\u001b[1;31m:\u001b[0m invalid syntax\n"
     ]
    }
   ],
   "source": [
    "def count_vowels(word):\n",
    "    count = 0\n",
    "    for i in word:\n",
    "        if(i=='a' or i=='e' or i=='i' or i=='o' or i=='u'):\n",
    "            count++\n",
    "    return count"
   ]
  },
  {
   "cell_type": "code",
   "execution_count": 4,
   "id": "0c5b1ccb",
   "metadata": {},
   "outputs": [
    {
     "ename": "NameError",
     "evalue": "name 'count_vowels' is not defined",
     "output_type": "error",
     "traceback": [
      "\u001b[1;31m---------------------------------------------------------------------------\u001b[0m",
      "\u001b[1;31mNameError\u001b[0m                                 Traceback (most recent call last)",
      "Input \u001b[1;32mIn [4]\u001b[0m, in \u001b[0;36m<cell line: 1>\u001b[1;34m()\u001b[0m\n\u001b[1;32m----> 1\u001b[0m Test\u001b[38;5;241m.\u001b[39massert_equals(\u001b[43mcount_vowels\u001b[49m(\u001b[38;5;124m\"\u001b[39m\u001b[38;5;124mCelebration\u001b[39m\u001b[38;5;124m\"\u001b[39m), \u001b[38;5;241m5\u001b[39m)\n\u001b[0;32m      2\u001b[0m Test\u001b[38;5;241m.\u001b[39massert_equals(count_vowels(\u001b[38;5;124m\"\u001b[39m\u001b[38;5;124mPalm\u001b[39m\u001b[38;5;124m\"\u001b[39m), \u001b[38;5;241m1\u001b[39m)\n\u001b[0;32m      3\u001b[0m Test\u001b[38;5;241m.\u001b[39massert_equals(count_vowels(\u001b[38;5;124m\"\u001b[39m\u001b[38;5;124mPrediction\u001b[39m\u001b[38;5;124m\"\u001b[39m), \u001b[38;5;241m4\u001b[39m)\n",
      "\u001b[1;31mNameError\u001b[0m: name 'count_vowels' is not defined"
     ]
    }
   ],
   "source": [
    "Test.assert_equals(count_vowels(\"Celebration\"), 5)\n",
    "Test.assert_equals(count_vowels(\"Palm\"), 1)\n",
    "Test.assert_equals(count_vowels(\"Prediction\"), 4)\n",
    "Test.assert_equals(count_vowels(\"Suite\"), 3)\n",
    "Test.assert_equals(count_vowels(\"Quote\"), 3)\n",
    "Test.assert_equals(count_vowels(\"Portrait\"), 3)\n",
    "Test.assert_equals(count_vowels(\"Steam\"), 2)\n",
    "Test.assert_equals(count_vowels(\"Tape\"), 2)\n",
    "Test.assert_equals(count_vowels(\"Nightmare\"), 3)\n",
    "Test.assert_equals(count_vowels(\"Convention\"), 4)"
   ]
  },
  {
   "cell_type": "code",
   "execution_count": null,
   "id": "275bfc05",
   "metadata": {},
   "outputs": [],
   "source": []
  }
 ],
 "metadata": {
  "kernelspec": {
   "display_name": "Python 3 (ipykernel)",
   "language": "python",
   "name": "python3"
  },
  "language_info": {
   "codemirror_mode": {
    "name": "ipython",
    "version": 3
   },
   "file_extension": ".py",
   "mimetype": "text/x-python",
   "name": "python",
   "nbconvert_exporter": "python",
   "pygments_lexer": "ipython3",
   "version": "3.9.12"
  }
 },
 "nbformat": 4,
 "nbformat_minor": 5
}
