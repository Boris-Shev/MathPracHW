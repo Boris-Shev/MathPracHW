{
 "cells": [
  {
   "cell_type": "markdown",
   "id": "04efc090",
   "metadata": {},
   "source": [
    "# Sum of Resistance in Series Circuits"
   ]
  },
  {
   "cell_type": "code",
   "execution_count": 7,
   "id": "f24c004a",
   "metadata": {},
   "outputs": [],
   "source": [
    "class Test:\n",
    "    @staticmethod\n",
    "    def assert_equals(a, b, *args, **kwargs):\n",
    "        assert a == b\n",
    "        print('Passed')"
   ]
  },
  {
   "cell_type": "markdown",
   "id": "cb359eef",
   "metadata": {},
   "source": [
    "https://edabit.com/challenge/gzmFeaXwFv8X6pBGq (1 point)"
   ]
  },
  {
   "cell_type": "code",
   "execution_count": 8,
   "id": "8a48f4d6",
   "metadata": {},
   "outputs": [],
   "source": [
    "def series_resistance(arr):\n",
    "    res = 0\n",
    "    for i in arr:\n",
    "        res += i\n",
    "    if(res <= 1):\n",
    "        return str(res) + \" ohm\"\n",
    "    else:\n",
    "        return str(res) + \" ohms\""
   ]
  },
  {
   "cell_type": "code",
   "execution_count": 9,
   "id": "0c5b1ccb",
   "metadata": {},
   "outputs": [
    {
     "name": "stdout",
     "output_type": "stream",
     "text": [
      "Passed\n",
      "Passed\n",
      "Passed\n",
      "Passed\n",
      "Passed\n",
      "Passed\n",
      "Passed\n",
      "Passed\n",
      "Passed\n"
     ]
    }
   ],
   "source": [
    "Test.assert_equals(series_resistance([1, 5, 6, 3]), \"15 ohms\")\n",
    "Test.assert_equals(series_resistance([0.2, 0.3, 0.4]), \"0.9 ohm\")\n",
    "Test.assert_equals(series_resistance([10,12, 1, 10]), \"33 ohms\")\n",
    "Test.assert_equals(series_resistance([10,13, 3.8, 20, 10]), \"56.8 ohms\")\n",
    "Test.assert_equals(series_resistance([0.5, 0.5]), \"1.0 ohm\")\n",
    "Test.assert_equals(series_resistance([16, 30, 22.8, 4]), \"72.8 ohms\")\n",
    "Test.assert_equals(series_resistance([20, 15, 32.5, 2]), \"69.5 ohms\")\n",
    "Test.assert_equals(series_resistance([52, 22, 20, 30]), \"124 ohms\")\n",
    "Test.assert_equals(series_resistance([10, 12, 32, 4.9, 5, 6, 71]), \"140.9 ohms\")"
   ]
  },
  {
   "cell_type": "markdown",
   "id": "b74615d7",
   "metadata": {},
   "source": [
    "# How Many Vowels?"
   ]
  },
  {
   "cell_type": "code",
   "execution_count": 10,
   "id": "a4a0d898",
   "metadata": {},
   "outputs": [],
   "source": [
    "class Test:\n",
    "    @staticmethod\n",
    "    def assert_equals(a, b, *args, **kwargs):\n",
    "        assert a == b\n",
    "        print('Passed')"
   ]
  },
  {
   "cell_type": "markdown",
   "id": "c927d44b",
   "metadata": {},
   "source": [
    " https://edabit.com/challenge/p88k8yHRPTMPt4bBo (1 point)"
   ]
  },
  {
   "cell_type": "code",
   "execution_count": 11,
   "id": "611a8f82",
   "metadata": {},
   "outputs": [],
   "source": [
    "def count_vowels(word):\n",
    "    count = 0\n",
    "    for i in word:\n",
    "        if(i=='a' or i=='e' or i=='i' or i=='o' or i=='u'):\n",
    "            count += 1\n",
    "    return count"
   ]
  },
  {
   "cell_type": "code",
   "execution_count": 12,
   "id": "b8dcc875",
   "metadata": {},
   "outputs": [
    {
     "name": "stdout",
     "output_type": "stream",
     "text": [
      "Passed\n",
      "Passed\n",
      "Passed\n",
      "Passed\n",
      "Passed\n",
      "Passed\n",
      "Passed\n",
      "Passed\n",
      "Passed\n",
      "Passed\n"
     ]
    }
   ],
   "source": [
    "Test.assert_equals(count_vowels(\"Celebration\"), 5)\n",
    "Test.assert_equals(count_vowels(\"Palm\"), 1)\n",
    "Test.assert_equals(count_vowels(\"Prediction\"), 4)\n",
    "Test.assert_equals(count_vowels(\"Suite\"), 3)\n",
    "Test.assert_equals(count_vowels(\"Quote\"), 3)\n",
    "Test.assert_equals(count_vowels(\"Portrait\"), 3)\n",
    "Test.assert_equals(count_vowels(\"Steam\"), 2)\n",
    "Test.assert_equals(count_vowels(\"Tape\"), 2)\n",
    "Test.assert_equals(count_vowels(\"Nightmare\"), 3)\n",
    "Test.assert_equals(count_vowels(\"Convention\"), 4)"
   ]
  },
  {
   "cell_type": "markdown",
   "id": "b5a3c97b",
   "metadata": {},
   "source": [
    "# FizzBuzz Interview Question"
   ]
  },
  {
   "cell_type": "code",
   "execution_count": 13,
   "id": "f7387e7c",
   "metadata": {},
   "outputs": [],
   "source": [
    "class Test:\n",
    "    @staticmethod\n",
    "    def assert_equals(a, b, *args, **kwargs):\n",
    "        assert a == b\n",
    "        print('Passed')"
   ]
  },
  {
   "cell_type": "markdown",
   "id": "268d4d17",
   "metadata": {},
   "source": [
    "https://edabit.com/challenge/WXqH9qvvGkmx4dMvp (2 point)"
   ]
  },
  {
   "cell_type": "code",
   "execution_count": 14,
   "id": "c49d2de9",
   "metadata": {},
   "outputs": [],
   "source": [
    "def fizz_buzz(n):\n",
    "    if(n % 3 == 0):\n",
    "        if(n % 5 == 0):\n",
    "            return \"FizzBuzz\"\n",
    "        else:\n",
    "            return \"Fizz\"\n",
    "    if(n % 5 == 0):\n",
    "        return \"Buzz\"\n",
    "    return str(n)"
   ]
  },
  {
   "cell_type": "code",
   "execution_count": 15,
   "id": "3a71bbcd",
   "metadata": {},
   "outputs": [
    {
     "name": "stdout",
     "output_type": "stream",
     "text": [
      "Passed\n",
      "Passed\n",
      "Passed\n",
      "Passed\n",
      "Passed\n"
     ]
    }
   ],
   "source": [
    "Test.assert_equals(fizz_buzz(3), \"Fizz\", \"You gave \" + fizz_buzz(3) + \" and Fizz was needed\")\n",
    "Test.assert_equals(fizz_buzz(5), \"Buzz\", \"You gave \" + fizz_buzz(5) + \" and Buzz was needed\")\n",
    "Test.assert_equals(fizz_buzz(15), \"FizzBuzz\", \"You gave \" + fizz_buzz(15) + \" and FizzBuzz was needed\")\n",
    "Test.assert_equals(fizz_buzz(10), \"Buzz\", \"You gave \" + fizz_buzz(10) + \" and Buzz was needed\")\n",
    "Test.assert_equals(fizz_buzz(98), \"98\", \"You gave \" + fizz_buzz(98) + \" and 98 was needed\")"
   ]
  },
  {
   "cell_type": "markdown",
   "id": "51f94bc4",
   "metadata": {},
   "source": [
    "# Fullname and Email"
   ]
  },
  {
   "cell_type": "code",
   "execution_count": 16,
   "id": "8060ca7b",
   "metadata": {},
   "outputs": [],
   "source": [
    "class Test:\n",
    "    @staticmethod\n",
    "    def assert_equals(a, b, *args, **kwargs):\n",
    "        assert a == b\n",
    "        print('Passed')"
   ]
  },
  {
   "cell_type": "markdown",
   "id": "a17290d1",
   "metadata": {},
   "source": [
    "https://edabit.com/challenge/gB7nt6WzZy8TymCah (2 point)"
   ]
  },
  {
   "cell_type": "code",
   "execution_count": 17,
   "id": "ef99de10",
   "metadata": {},
   "outputs": [],
   "source": [
    "class Employee:\n",
    "    def __init__(self, first, last):\n",
    "        self.firstname = first\n",
    "        self.lastname = last\n",
    "        self.fullname = first + \" \" + last\n",
    "        self.email = first[0].lower() + first[1:] + \".\" + last[0].lower()\n",
    "        self.email += last[1:] + \"@company.com\""
   ]
  },
  {
   "cell_type": "code",
   "execution_count": 18,
   "id": "667b30dd",
   "metadata": {},
   "outputs": [
    {
     "name": "stdout",
     "output_type": "stream",
     "text": [
      "Passed\n",
      "Passed\n",
      "Passed\n",
      "Passed\n",
      "Passed\n",
      "Passed\n",
      "Passed\n",
      "Passed\n",
      "Passed\n",
      "Passed\n",
      "Passed\n",
      "Passed\n",
      "Passed\n",
      "Passed\n",
      "Passed\n",
      "Passed\n"
     ]
    }
   ],
   "source": [
    "emp_1 = Employee(\"John\", \"Smith\")\n",
    "emp_2 = Employee(\"Mary\",  \"Sue\")\n",
    "emp_3 = Employee(\"Antony\", \"Walker\")\n",
    "emp_4 = Employee(\"Joshua\", \"Senoron\")\n",
    "\n",
    "Test.assert_equals(emp_1.firstname, \"John\")\n",
    "Test.assert_equals(emp_1.lastname, \"Smith\")\n",
    "Test.assert_equals(emp_1.fullname, \"John Smith\")\n",
    "Test.assert_equals(emp_1.email, \"john.smith@company.com\")\n",
    "Test.assert_equals(emp_2.firstname, \"Mary\")\n",
    "Test.assert_equals(emp_2.lastname, \"Sue\")\n",
    "Test.assert_equals(emp_2.fullname, \"Mary Sue\")\n",
    "Test.assert_equals(emp_2.email, \"mary.sue@company.com\")\n",
    "Test.assert_equals(emp_3.firstname, \"Antony\")\n",
    "Test.assert_equals(emp_3.lastname, \"Walker\")\n",
    "Test.assert_equals(emp_3.fullname, \"Antony Walker\")\n",
    "Test.assert_equals(emp_3.email, \"antony.walker@company.com\")\n",
    "Test.assert_equals(emp_4.firstname, \"Joshua\")\n",
    "Test.assert_equals(emp_4.lastname, \"Senoron\")\n",
    "Test.assert_equals(emp_4.fullname, \"Joshua Senoron\")\n",
    "Test.assert_equals(emp_4.email, \"joshua.senoron@company.com\")"
   ]
  },
  {
   "cell_type": "markdown",
   "id": "db5c7bf6",
   "metadata": {},
   "source": [
    "# How Many \"Prime Numbers\" Are There?"
   ]
  },
  {
   "cell_type": "code",
   "execution_count": 19,
   "id": "d4a5bdd7",
   "metadata": {},
   "outputs": [],
   "source": [
    "class Test:\n",
    "    @staticmethod\n",
    "    def assert_equals(a, b, *args, **kwargs):\n",
    "        assert a == b\n",
    "        print('Passed')"
   ]
  },
  {
   "cell_type": "markdown",
   "id": "b65da45b",
   "metadata": {},
   "source": [
    "https://edabit.com/challenge/oTzuXDWL26gnY5a5P (3 point)"
   ]
  },
  {
   "cell_type": "code",
   "execution_count": 20,
   "id": "64df2779",
   "metadata": {},
   "outputs": [],
   "source": [
    "import math\n",
    "def prime_numbers(n):\n",
    "    if(n <= 1):\n",
    "        return 0\n",
    "    k = 1\n",
    "    lim = math.floor(math.sqrt(n))\n",
    "    nums = [i for i in range(1, n + 2)]\n",
    "    for i in range(2, lim + 1):\n",
    "        if(nums[i] == 0):\n",
    "            continue\n",
    "        k += 1\n",
    "        for j in range(2, (n//i) + 1):\n",
    "            nums[i*j] = 0\n",
    "    j=-1\n",
    "    for i in range(1, n + 1):\n",
    "        if(nums[i] == 0):\n",
    "            continue\n",
    "        j += 1\n",
    "    return j"
   ]
  },
  {
   "cell_type": "code",
   "execution_count": 21,
   "id": "69fe8c7f",
   "metadata": {},
   "outputs": [
    {
     "name": "stdout",
     "output_type": "stream",
     "text": [
      "Passed\n",
      "Passed\n",
      "Passed\n",
      "Passed\n",
      "Passed\n",
      "Passed\n",
      "Passed\n",
      "Passed\n",
      "Passed\n"
     ]
    }
   ],
   "source": [
    "Test.assert_equals(prime_numbers(20), 8)\n",
    "Test.assert_equals(prime_numbers(30), 10)\n",
    "Test.assert_equals(prime_numbers(100), 25)\n",
    "Test.assert_equals(prime_numbers(200), 46)\n",
    "Test.assert_equals(prime_numbers(1000), 168)\n",
    "Test.assert_equals(prime_numbers(-5), 0)\n",
    "Test.assert_equals(prime_numbers(66), 18)\n",
    "Test.assert_equals(prime_numbers(133), 32)\n",
    "Test.assert_equals(prime_numbers(99), 25)"
   ]
  },
  {
   "cell_type": "markdown",
   "id": "cd5f39d0",
   "metadata": {},
   "source": [
    "# Geometry 3: Perimeter of a Triangle"
   ]
  },
  {
   "cell_type": "code",
   "execution_count": 22,
   "id": "3bd1ce18",
   "metadata": {},
   "outputs": [],
   "source": [
    "class Test:\n",
    "    @staticmethod\n",
    "    def assert_equals(a, b, *args, **kwargs):\n",
    "        assert a == b\n",
    "        print('Passed')"
   ]
  },
  {
   "cell_type": "markdown",
   "id": "9f270347",
   "metadata": {},
   "source": [
    "https://edabit.com/challenge/fNQEi9Y2adsERgn98 (3 point)"
   ]
  },
  {
   "cell_type": "code",
   "execution_count": 23,
   "id": "273488ec",
   "metadata": {},
   "outputs": [],
   "source": [
    "import math\n",
    "def length(a):\n",
    "    return math.sqrt(a[0]**2 + a[1]**2)\n",
    "def perimeter(arr):\n",
    "    a = [arr[0][0] - arr[1][0], arr[0][1] - arr[1][1]]\n",
    "    b = [arr[0][0] - arr[2][0], arr[0][1] - arr[2][1]]\n",
    "    c = [arr[1][0] - arr[2][0], arr[1][1] - arr[2][1]]\n",
    "    return round(length(a) + length(b) + length(c), 2)\n",
    "\n",
    "    "
   ]
  },
  {
   "cell_type": "code",
   "execution_count": 24,
   "id": "3e2be3a2",
   "metadata": {},
   "outputs": [
    {
     "name": "stdout",
     "output_type": "stream",
     "text": [
      "Passed\n",
      "Passed\n",
      "Passed\n",
      "Passed\n",
      "Passed\n",
      "Passed\n",
      "Passed\n"
     ]
    }
   ],
   "source": [
    "Test.assert_equals(perimeter([[0, 0], [1, 0], [0, 1]]), 3.41)\n",
    "Test.assert_equals(perimeter([[15, 7], [5, 22], [11, 1]]), 47.08)\n",
    "Test.assert_equals(perimeter([[7, 6], [0, 11], [0, -3]]), 34.00)\n",
    "Test.assert_equals(perimeter([[-10, -10], [10, 10], [-10, 10]]), 68.28)\n",
    "Test.assert_equals(perimeter([[3, 4], [4, 3], [4, 5]]), 4.83)\n",
    "Test.assert_equals(perimeter([[-10, -20], [-30, -40], [-50, -60]]), 113.14)\n",
    "Test.assert_equals(perimeter([[382, 894], [389, 312], [500, 993]]), 1426.06)"
   ]
  },
  {
   "cell_type": "markdown",
   "id": "61cf1e0b",
   "metadata": {},
   "source": [
    "# Basic Arithmetic Operations on a String Number\n"
   ]
  },
  {
   "cell_type": "code",
   "execution_count": 25,
   "id": "e1aebeb1",
   "metadata": {},
   "outputs": [],
   "source": [
    "class Test:\n",
    "    @staticmethod\n",
    "    def assert_equals(a, b, *args, **kwargs):\n",
    "        assert a == b\n",
    "        print('Passed')"
   ]
  },
  {
   "cell_type": "markdown",
   "id": "d36a0ab5",
   "metadata": {},
   "source": [
    "https://edabit.com/challenge/peezjw73G8BBGfHdW (3 point)"
   ]
  },
  {
   "cell_type": "code",
   "execution_count": 26,
   "id": "9c4ce3cb",
   "metadata": {},
   "outputs": [],
   "source": [
    "def arithmetic_operation(input):\n",
    "    arr = input.split()\n",
    "    if(arr[1] == \"//\"):\n",
    "        if(int(arr[2]) == 0):\n",
    "            return -1\n",
    "        return int(arr[0]) // int(arr[2])\n",
    "    elif(arr[1] == \"+\"):\n",
    "        return int(arr[0]) + int(arr[2])\n",
    "    elif(arr[1] == \"-\"):\n",
    "        return int(arr[0]) - int(arr[2])\n",
    "    elif(arr[1] == \"*\"):\n",
    "        return int(arr[0]) * int(arr[2])\n",
    "    "
   ]
  },
  {
   "cell_type": "code",
   "execution_count": 27,
   "id": "5be9876c",
   "metadata": {},
   "outputs": [
    {
     "name": "stdout",
     "output_type": "stream",
     "text": [
      "Passed\n",
      "Passed\n",
      "Passed\n",
      "Passed\n",
      "Passed\n",
      "Passed\n",
      "Passed\n",
      "Passed\n"
     ]
    }
   ],
   "source": [
    "Test.assert_equals(arithmetic_operation(\"12 + 12\"), 24)\n",
    "Test.assert_equals(arithmetic_operation(\"22 - 12\"), 10)\n",
    "Test.assert_equals(arithmetic_operation(\"100 * 12\"), 1200)\n",
    "Test.assert_equals(arithmetic_operation(\"120 // 10\"), 12)\n",
    "Test.assert_equals(arithmetic_operation(\"122 // 0\"), -1)\n",
    "Test.assert_equals(arithmetic_operation(\"10 * 20\"), 200)\n",
    "Test.assert_equals(arithmetic_operation(\"10 - 10\"), 0)\n",
    "Test.assert_equals(arithmetic_operation(\"10 - 12\"), -2)"
   ]
  },
  {
   "cell_type": "code",
   "execution_count": null,
   "id": "30eb24b2",
   "metadata": {},
   "outputs": [],
   "source": []
  },
  {
   "cell_type": "code",
   "execution_count": null,
   "id": "1c558503",
   "metadata": {},
   "outputs": [],
   "source": []
  }
 ],
 "metadata": {
  "kernelspec": {
   "display_name": "Python 3 (ipykernel)",
   "language": "python",
   "name": "python3"
  },
  "language_info": {
   "codemirror_mode": {
    "name": "ipython",
    "version": 3
   },
   "file_extension": ".py",
   "mimetype": "text/x-python",
   "name": "python",
   "nbconvert_exporter": "python",
   "pygments_lexer": "ipython3",
   "version": "3.9.12"
  }
 },
 "nbformat": 4,
 "nbformat_minor": 5
}
