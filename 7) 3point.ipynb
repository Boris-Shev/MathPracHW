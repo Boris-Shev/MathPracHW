{
 "cells": [
  {
   "cell_type": "markdown",
   "id": "04efc090",
   "metadata": {},
   "source": [
    "# Basic Arithmetic Operations on a String Number\n"
   ]
  },
  {
   "cell_type": "code",
   "execution_count": 1,
   "id": "f24c004a",
   "metadata": {},
   "outputs": [],
   "source": [
    "class Test:\n",
    "    @staticmethod\n",
    "    def assert_equals(a, b, *args, **kwargs):\n",
    "        assert a == b\n",
    "        print('Passed')"
   ]
  },
  {
   "cell_type": "markdown",
   "id": "cb359eef",
   "metadata": {},
   "source": [
    "https://edabit.com/challenge/peezjw73G8BBGfHdW (3 point)"
   ]
  },
  {
   "cell_type": "code",
   "execution_count": 16,
   "id": "8a48f4d6",
   "metadata": {},
   "outputs": [],
   "source": [
    "def arithmetic_operation(input):\n",
    "    arr = input.split()\n",
    "    if(arr[1] == \"//\"):\n",
    "        if(int(arr[2]) == 0):\n",
    "            return -1\n",
    "        return int(arr[0]) // int(arr[2])\n",
    "    elif(arr[1] == \"+\"):\n",
    "        return int(arr[0]) + int(arr[2])\n",
    "    elif(arr[1] == \"-\"):\n",
    "        return int(arr[0]) - int(arr[2])\n",
    "    elif(arr[1] == \"*\"):\n",
    "        return int(arr[0]) * int(arr[2])\n",
    "    "
   ]
  },
  {
   "cell_type": "code",
   "execution_count": 17,
   "id": "0c5b1ccb",
   "metadata": {},
   "outputs": [
    {
     "name": "stdout",
     "output_type": "stream",
     "text": [
      "Passed\n",
      "Passed\n",
      "Passed\n",
      "Passed\n",
      "Passed\n",
      "Passed\n",
      "Passed\n",
      "Passed\n"
     ]
    }
   ],
   "source": [
    "Test.assert_equals(arithmetic_operation(\"12 + 12\"), 24)\n",
    "Test.assert_equals(arithmetic_operation(\"22 - 12\"), 10)\n",
    "Test.assert_equals(arithmetic_operation(\"100 * 12\"), 1200)\n",
    "Test.assert_equals(arithmetic_operation(\"120 // 10\"), 12)\n",
    "Test.assert_equals(arithmetic_operation(\"122 // 0\"), -1)\n",
    "Test.assert_equals(arithmetic_operation(\"10 * 20\"), 200)\n",
    "Test.assert_equals(arithmetic_operation(\"10 - 10\"), 0)\n",
    "Test.assert_equals(arithmetic_operation(\"10 - 12\"), -2)"
   ]
  }
 ],
 "metadata": {
  "kernelspec": {
   "display_name": "Python 3 (ipykernel)",
   "language": "python",
   "name": "python3"
  },
  "language_info": {
   "codemirror_mode": {
    "name": "ipython",
    "version": 3
   },
   "file_extension": ".py",
   "mimetype": "text/x-python",
   "name": "python",
   "nbconvert_exporter": "python",
   "pygments_lexer": "ipython3",
   "version": "3.9.12"
  }
 },
 "nbformat": 4,
 "nbformat_minor": 5
}
