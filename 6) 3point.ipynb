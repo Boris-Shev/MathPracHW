{
 "cells": [
  {
   "cell_type": "markdown",
   "id": "04efc090",
   "metadata": {},
   "source": [
    "# Geometry 3: Perimeter of a Triangle"
   ]
  },
  {
   "cell_type": "code",
   "execution_count": 1,
   "id": "f24c004a",
   "metadata": {},
   "outputs": [],
   "source": [
    "class Test:\n",
    "    @staticmethod\n",
    "    def assert_equals(a, b, *args, **kwargs):\n",
    "        assert a == b\n",
    "        print('Passed')"
   ]
  },
  {
   "cell_type": "markdown",
   "id": "cb359eef",
   "metadata": {},
   "source": [
    "https://edabit.com/challenge/fNQEi9Y2adsERgn98 (3 point)"
   ]
  },
  {
   "cell_type": "code",
   "execution_count": 25,
   "id": "8a48f4d6",
   "metadata": {},
   "outputs": [],
   "source": [
    "import math\n",
    "def length(a):\n",
    "    return math.sqrt(a[0]**2 + a[1]**2)\n",
    "def perimeter(arr):\n",
    "    a = [arr[0][0] - arr[1][0], arr[0][1] - arr[1][1]]\n",
    "    b = [arr[0][0] - arr[2][0], arr[0][1] - arr[2][1]]\n",
    "    c = [arr[1][0] - arr[2][0], arr[1][1] - arr[2][1]]\n",
    "    return round(length(a) + length(b) + length(c), 2)\n",
    "\n",
    "    "
   ]
  },
  {
   "cell_type": "code",
   "execution_count": 27,
   "id": "3e2be3a2",
   "metadata": {},
   "outputs": [
    {
     "name": "stdout",
     "output_type": "stream",
     "text": [
      "Passed\n",
      "Passed\n",
      "Passed\n",
      "Passed\n",
      "Passed\n",
      "Passed\n",
      "Passed\n"
     ]
    }
   ],
   "source": [
    "Test.assert_equals(perimeter([[0, 0], [1, 0], [0, 1]]), 3.41)\n",
    "Test.assert_equals(perimeter([[15, 7], [5, 22], [11, 1]]), 47.08)\n",
    "Test.assert_equals(perimeter([[7, 6], [0, 11], [0, -3]]), 34.00)\n",
    "Test.assert_equals(perimeter([[-10, -10], [10, 10], [-10, 10]]), 68.28)\n",
    "Test.assert_equals(perimeter([[3, 4], [4, 3], [4, 5]]), 4.83)\n",
    "Test.assert_equals(perimeter([[-10, -20], [-30, -40], [-50, -60]]), 113.14)\n",
    "Test.assert_equals(perimeter([[382, 894], [389, 312], [500, 993]]), 1426.06)"
   ]
  },
  {
   "cell_type": "code",
   "execution_count": null,
   "id": "2609750c",
   "metadata": {},
   "outputs": [],
   "source": []
  }
 ],
 "metadata": {
  "kernelspec": {
   "display_name": "Python 3 (ipykernel)",
   "language": "python",
   "name": "python3"
  },
  "language_info": {
   "codemirror_mode": {
    "name": "ipython",
    "version": 3
   },
   "file_extension": ".py",
   "mimetype": "text/x-python",
   "name": "python",
   "nbconvert_exporter": "python",
   "pygments_lexer": "ipython3",
   "version": "3.9.12"
  }
 },
 "nbformat": 4,
 "nbformat_minor": 5
}
