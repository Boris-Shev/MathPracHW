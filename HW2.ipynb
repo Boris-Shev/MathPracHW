{
 "cells": [
  {
   "cell_type": "code",
   "execution_count": 1,
   "id": "bddb97a5",
   "metadata": {},
   "outputs": [],
   "source": [
    "import numpy as np"
   ]
  },
  {
   "cell_type": "markdown",
   "id": "2cd0b7d3",
   "metadata": {},
   "source": [
    "# 1"
   ]
  },
  {
   "cell_type": "code",
   "execution_count": 2,
   "id": "98a92fcf",
   "metadata": {},
   "outputs": [
    {
     "data": {
      "text/plain": [
       "array([[0., 0., 0., 0., 0.],\n",
       "       [1., 0., 0., 0., 0.],\n",
       "       [0., 2., 0., 0., 0.],\n",
       "       [0., 0., 3., 0., 0.],\n",
       "       [0., 0., 0., 4., 0.]])"
      ]
     },
     "execution_count": 2,
     "metadata": {},
     "output_type": "execute_result"
    }
   ],
   "source": [
    "n = 5\n",
    "a = np.zeros((n*n))\n",
    "for i in range(n-1):\n",
    "    a[i*(n+1) + n] = i + 1\n",
    "np.reshape(a,(n,n))"
   ]
  },
  {
   "cell_type": "markdown",
   "id": "1a1c63bf",
   "metadata": {},
   "source": [
    "# 2"
   ]
  },
  {
   "cell_type": "code",
   "execution_count": 3,
   "id": "8c3695e4",
   "metadata": {},
   "outputs": [
    {
     "data": {
      "text/plain": [
       "array([0.30698792, 0.18858154, 0.02646985, 0.07906456, 0.13452011,\n",
       "       0.27800069, 0.0427583 , 0.05108352, 0.21424003, 0.08714493])"
      ]
     },
     "execution_count": 3,
     "metadata": {},
     "output_type": "execute_result"
    }
   ],
   "source": [
    "a = np.random.random((10,3))\n",
    "np.min(np.abs(a - 0.5), 1)"
   ]
  },
  {
   "cell_type": "markdown",
   "id": "b3c0e8ce",
   "metadata": {},
   "source": [
    "# 3"
   ]
  },
  {
   "cell_type": "code",
   "execution_count": 4,
   "id": "ce88a15d",
   "metadata": {},
   "outputs": [
    {
     "data": {
      "text/plain": [
       "array([6.7459925 , 3.37676083, 4.37262059, 3.01183833, 3.96365165,\n",
       "       3.34756488])"
      ]
     },
     "execution_count": 4,
     "metadata": {},
     "output_type": "execute_result"
    }
   ],
   "source": [
    "a = np.random.random((6,6))\n",
    "np.sum(a,1)/np.max(a,0)"
   ]
  },
  {
   "cell_type": "markdown",
   "id": "c7cbe6c1",
   "metadata": {},
   "source": [
    "# 4"
   ]
  },
  {
   "cell_type": "code",
   "execution_count": 5,
   "id": "2c1c28b2",
   "metadata": {},
   "outputs": [
    {
     "data": {
      "text/plain": [
       "7"
      ]
     },
     "execution_count": 5,
     "metadata": {},
     "output_type": "execute_result"
    }
   ],
   "source": [
    "x = np.array([6, 2, 0, 3, 0, 0, 5, 7, 0])\n",
    "tmp = np.array([], dtype=x.dtype)\n",
    "for i in np.arange(len(x)):\n",
    "    if(x[i] == 0):\n",
    "       tmp = np.append(tmp, x[i-1])\n",
    "np.max(tmp)"
   ]
  },
  {
   "cell_type": "markdown",
   "id": "e54f00d3",
   "metadata": {},
   "source": [
    "# 5"
   ]
  },
  {
   "cell_type": "code",
   "execution_count": 6,
   "id": "399dd513",
   "metadata": {},
   "outputs": [
    {
     "data": {
      "text/plain": [
       "array([2., 2., 2., 2., 1., 4., 1., 1., 2., 1.])"
      ]
     },
     "execution_count": 6,
     "metadata": {},
     "output_type": "execute_result"
    }
   ],
   "source": [
    "x = np.ones(10)\n",
    "i = np.array([0, 1, 2, 3, 5, 5, 5, 8])\n",
    "for k in i:\n",
    "    x[k] += 1\n",
    "x"
   ]
  },
  {
   "cell_type": "markdown",
   "id": "4e3e5ac7",
   "metadata": {},
   "source": [
    "# 6"
   ]
  },
  {
   "cell_type": "code",
   "execution_count": 7,
   "id": "bcc741d7",
   "metadata": {},
   "outputs": [
    {
     "name": "stdout",
     "output_type": "stream",
     "text": [
      "[ 1.  1.  0.  2. -1. -6.]\n",
      "[ 1.  1.  0.  2. -1. -6.]\n",
      "[ 1.  1.  0.  3. -1. -6.]\n"
     ]
    }
   ],
   "source": [
    "a = np.array([1, 0.6, 0.1, 2.5, -1.4, -5.9])\n",
    "print(np.around(a),\n",
    "     np.round(a),\n",
    "      (a + ((a + 0.5) // 1) - (a // 1)) // 1, sep = '\\n')"
   ]
  },
  {
   "cell_type": "markdown",
   "id": "13512905",
   "metadata": {},
   "source": [
    "# 7"
   ]
  },
  {
   "cell_type": "code",
   "execution_count": 17,
   "id": "50a28986",
   "metadata": {},
   "outputs": [],
   "source": [
    "from sklearn.datasets import fetch_openml\n",
    "from scipy.linalg import norm\n",
    "import matplotlib.pyplot as plt\n",
    "images, labels = fetch_openml('mnist_784', return_X_y=True, as_frame=False)\n",
    "\n",
    "def pic(a):\n",
    "    plt.imshow(a.reshape(28, 28), cmap='Greys_r')\n",
    "    #plt.title('Number ' + labels[])\n",
    "    plt.show()\n",
    "def Norm(a):\n",
    "    return norm(a,2)\n",
    "\n",
    "def KNN(train_X, train_Y, test_X, k):\n",
    "    result = np.array([])\n",
    "    for i in range(test_size):\n",
    "        Dist = np.fromiter(map(Norm, train_X - test_X[i]), float)\n",
    "        #print(Dist)\n",
    "        #print(np.argpartition(Dist, k)[:k])\n",
    "        ind = np.argpartition(Dist, k)[:k]\n",
    "        res = np.argmax(np.bincount(np.fromiter(map(int,train_labels[ind]), int)))\n",
    "        result = np.append(result, res)\n",
    "    return result    \n",
    "# res = KNN(train_images, train_labels, test_images, 1)\n",
    "# print(np.sum(res)/len(res))"
   ]
  },
  {
   "cell_type": "markdown",
   "id": "a0b6e7d3",
   "metadata": {},
   "source": [
    "# 8"
   ]
  },
  {
   "cell_type": "code",
   "execution_count": 33,
   "id": "e39e9125",
   "metadata": {},
   "outputs": [
    {
     "name": "stdout",
     "output_type": "stream",
     "text": [
      "Accuracy 94.0 %  for K = 1\n",
      "Accuracy 91.0 %  for K = 2\n",
      "Accuracy 90.0 %  for K = 3\n",
      "Accuracy 90.0 %  for K = 4\n",
      "Accuracy 89.0 %  for K = 5\n",
      "Accuracy 86.0 %  for K = 6\n",
      "Accuracy 87.0 %  for K = 7\n",
      "Accuracy 87.0 %  for K = 8\n",
      "Accuracy 86.0 %  for K = 9\n",
      "Best accuracy 94.0 %  for K = 1\n"
     ]
    }
   ],
   "source": [
    "train_size = 1000\n",
    "test_size = 100\n",
    "train_images = images[:train_size]\n",
    "train_labels = labels[:train_size]\n",
    "test_images = images[-test_size:]\n",
    "test_labels = labels[-test_size:]\n",
    "percentMax = 0\n",
    "ind = 0\n",
    "for i in range(1,10):\n",
    "    res = KNN(train_images, train_labels, test_images, i)\n",
    "    percent = np.sum(res == np.fromiter(map(int,test_labels), int)) / len(res)\n",
    "    if(percent > percentMax):\n",
    "        percentMax = percent\n",
    "        ind = i\n",
    "    print(\"Accuracy\", percent*100, \"% \", \"for K =\", i)\n",
    "print(\"Best accuracy\", percentMax*100, \"% \", \"for K =\", ind)"
   ]
  }
 ],
 "metadata": {
  "kernelspec": {
   "display_name": "Python 3 (ipykernel)",
   "language": "python",
   "name": "python3"
  },
  "language_info": {
   "codemirror_mode": {
    "name": "ipython",
    "version": 3
   },
   "file_extension": ".py",
   "mimetype": "text/x-python",
   "name": "python",
   "nbconvert_exporter": "python",
   "pygments_lexer": "ipython3",
   "version": "3.9.12"
  }
 },
 "nbformat": 4,
 "nbformat_minor": 5
}
