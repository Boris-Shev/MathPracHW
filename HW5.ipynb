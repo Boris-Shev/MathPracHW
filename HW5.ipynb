{
 "cells": [
  {
   "cell_type": "code",
   "execution_count": 1,
   "id": "d79ebefb",
   "metadata": {},
   "outputs": [],
   "source": [
    "import numpy as np\n",
    "import math\n",
    "import itertools\n",
    "from scipy import stats\n",
    "import matplotlib.pyplot as plt\n",
    "def rng(m=2**32, a=1103515245, c=12345):\n",
    "    rng.cu = (a * rng.cu + c) % m\n",
    "    return rng.cu / m\n",
    "\n",
    "rng.cu = 2\n",
    "sample = np.array([rng() for _ in range(1000)])"
   ]
  },
  {
   "cell_type": "markdown",
   "id": "daab50b9",
   "metadata": {
    "id": "oMfq-bGPB7-B"
   },
   "source": [
    "### Задача 1\n",
    "Реализовать serial test и применить к выборке samples"
   ]
  },
  {
   "cell_type": "code",
   "execution_count": 2,
   "id": "83bc5e03",
   "metadata": {},
   "outputs": [
    {
     "name": "stdout",
     "output_type": "stream",
     "text": [
      "[[27. 23. 20. 15. 23.]\n",
      " [14. 17. 14. 24. 28.]\n",
      " [22. 20. 21. 14. 31.]\n",
      " [23. 19. 14. 21. 18.]\n",
      " [17. 17. 23. 18. 17.]]\n",
      "[20 20 20 20 20 20 20 20 20 20 20 20 20 20 20 20 20 20 20 20 20 20 20 20\n",
      " 20]\n",
      "Power_divergenceResult(statistic=25.3, pvalue=0.3896078661133287)\n"
     ]
    }
   ],
   "source": [
    "def serial_test2d(samp, k):\n",
    "    xsamp = samp[::2]\n",
    "    ysamp = samp[1::2]\n",
    "    obs = np.histogram2d(xsamp, ysamp, bins=k)[0]\n",
    "    exp = np.full(k * k, samp.size // (2 * k * k))\n",
    "    print(obs, exp, sep='\\n')\n",
    "    print(stats.chisquare(obs.flatten(), exp))\n",
    "serial_test2d(sample, 5)"
   ]
  },
  {
   "cell_type": "markdown",
   "id": "08598fb8",
   "metadata": {
    "id": "vM9_25Q7B7-C"
   },
   "source": [
    "### Permutation test"
   ]
  },
  {
   "cell_type": "markdown",
   "id": "083fab09",
   "metadata": {
    "id": "A_cfF1XoB7-E"
   },
   "source": [
    "### Задача 2\n",
    "Реализовать permutation test и применить к выборке samples"
   ]
  },
  {
   "cell_type": "code",
   "execution_count": 3,
   "id": "c3b535d4",
   "metadata": {
    "id": "m-bWyqbNB7-E"
   },
   "outputs": [
    {
     "name": "stdout",
     "output_type": "stream",
     "text": [
      "[262 238] [250 250]\n",
      "Power_divergenceResult(statistic=1.152, pvalue=0.28313087066234355)\n",
      "[ 8  6 12 12 15  9 11 10  5 10 14  5 10  4 11  4 15 16 11 15  8 13  5 11] [10 10 10 10 10 10 10 10 10 10 10 10 10 10 10 10 10 10 10 10 10 10 10 10]\n",
      "Power_divergenceResult(statistic=32.0, pvalue=0.1001434048174333)\n"
     ]
    }
   ],
   "source": [
    "def permutation_test(samp, d):\n",
    "    tmp = samp.reshape((-1,d))\n",
    "    obs = np.full(math.factorial(d), 0)\n",
    "    for i in range(tmp.size // d):\n",
    "        ind = 0\n",
    "        for perm in itertools.permutations(sorted(tmp[i])):\n",
    "            if (list(tmp[i]) == list(perm)):\n",
    "                obs[ind] += 1\n",
    "                break\n",
    "            ind += 1\n",
    "    exp = np.full(math.factorial(d), tmp.size // (d * math.factorial(d)))\n",
    "    print(obs, exp)\n",
    "    print(stats.chisquare(obs, exp))\n",
    "                \n",
    "permutation_test(sample, 2)\n",
    "permutation_test(sample[:-40], 4)"
   ]
  },
  {
   "cell_type": "code",
   "execution_count": 4,
   "id": "efd32069",
   "metadata": {
    "id": "9DWifIyadiY9",
    "outputId": "d08ab4b5-e5ac-45f2-9c26-82a8b4b88c6d"
   },
   "outputs": [],
   "source": [
    "def rng_bad(m=2**31, a=65539, c=0):\n",
    "    rng_bad.current = (a * rng_bad.current + c) % m\n",
    "    return rng_bad.current / m\n",
    "rng_bad.current = 1\n",
    "\n",
    "bad_sample = np.array([rng_bad() for _ in range(30000)])"
   ]
  },
  {
   "cell_type": "markdown",
   "id": "bfda74c0",
   "metadata": {
    "id": "hhKeCoMqB7-K"
   },
   "source": [
    "### Задача 3\n",
    "\n",
    "Привести статистический тест, который покажет, что с rng_bad есть проблемы, а с rng - нет."
   ]
  },
  {
   "cell_type": "code",
   "execution_count": 5,
   "id": "53530bf1",
   "metadata": {
    "id": "6IA048hYB7-L"
   },
   "outputs": [
    {
     "name": "stdout",
     "output_type": "stream",
     "text": [
      "Power_divergenceResult(statistic=54.330000000000005, pvalue=0.27864829992636336)\n",
      "Power_divergenceResult(statistic=88.62, pvalue=0.00045447033454071474)\n"
     ]
    }
   ],
   "source": [
    "def serial_test3d(samp, n, m, k):\n",
    "    obs = np.histogramdd(samp.reshape((-1, 3)), bins=(n, m, k))[0]\n",
    "    exp = np.full(n * m * k, samp.size // (3 * n * m * k))\n",
    "    #print(obs, exp, sep='\\n')\n",
    "    print(stats.chisquare(obs.flatten(), exp))\n",
    "sample1 = np.array([rng() for _ in range(30000)])\n",
    "serial_test3d(sample1, 5, 2, 5)\n",
    "serial_test3d(bad_sample, 5, 2, 5)"
   ]
  },
  {
   "cell_type": "markdown",
   "id": "616af8c4",
   "metadata": {
    "id": "cuGe1hKIdiZH"
   },
   "source": [
    "## Генерация выборки из заданного распределения"
   ]
  },
  {
   "cell_type": "markdown",
   "id": "afdb25df",
   "metadata": {
    "id": "nicNq6-yrD7P"
   },
   "source": [
    "### Задача 4\n",
    "Смоделировать выборку объема 1000 из дискретного распределения на множестве цифр 0, 1, 2, ..., 9 с весами 0.12, 0.3, 0.167, 0.24, 0.31, 0.54, 0.111, 0.02, 0.001, 0.2. По выборке построить гистограмму. Оптимизируйте алгоритм, упорядочив веса."
   ]
  },
  {
   "cell_type": "code",
   "execution_count": 6,
   "id": "93d662e5",
   "metadata": {
    "id": "2djF1xMoq_1f"
   },
   "outputs": [
    {
     "data": {
      "image/png": "[encoded data removed]",
      "text/plain": [
       "<Figure size 288x288 with 1 Axes>"
      ]
     },
     "metadata": {
      "needs_background": "light"
     },
     "output_type": "display_data"
    }
   ],
   "source": [
    "n = 1000\n",
    "unif = np.random.rand(n)\n",
    "weight = np.array([0.12, 0.3, 0.167, 0.24, 0.31, 0.54, 0.111, 0.02, 0.001, 0.2])\n",
    "weight = weight / sum(weight)\n",
    "\n",
    "points = [sum(weight[:i]) for i in range(len(weight) + 1)]\n",
    "res = []\n",
    "for dot in unif:\n",
    "    for j in range(len(weight)):\n",
    "        if ((dot > points[j]) and (dot < points[j + 1])):\n",
    "            res.append(j)\n",
    "            break\n",
    "fig, ax = plt.subplots(figsize=(4, 4))\n",
    "ax.hist(res, 10)\n",
    "plt.show()\n"
   ]
  },
  {
   "cell_type": "markdown",
   "id": "607e4c86",
   "metadata": {
    "id": "F-VMprlQdiZJ"
   },
   "source": [
    "### Inverse transform method"
   ]
  },
  {
   "cell_type": "markdown",
   "id": "3e621a63",
   "metadata": {
    "id": "LlRNa517diZK"
   },
   "source": [
    "### Задача 5\n",
    "Смоделируйте выборку размера 1000 из распределения $Exp(\\lambda)$ с помощью метода Inverse transform. Постройте выборочную гистограмму и точный график плотности распределения."
   ]
  },
  {
   "cell_type": "code",
   "execution_count": 7,
   "id": "5bd6647a",
   "metadata": {
    "id": "vD1_buYgdiZK"
   },
   "outputs": [
    {
     "data": {
      "image/png": "[encoded data removed]",
      "text/plain": [
       "<Figure size 576x288 with 1 Axes>"
      ]
     },
     "metadata": {
      "needs_background": "light"
     },
     "output_type": "display_data"
    }
   ],
   "source": [
    "def expon_distrib(param, n):\n",
    "    r = np.random.rand(n)\n",
    "    return np.array([(-1 / param) * np.log(1 - x) for x in r])\n",
    "\n",
    "param = 1.5\n",
    "n = 1000\n",
    "expon = expon_distrib(param, n)\n",
    "\n",
    "fig = plt.subplots(figsize=(8, 4))\n",
    "plt.hist(expon, 20)\n",
    "plt.title(\"Выборочная гистограмма и реальная плотность\")\n",
    "X = np.linspace(0, 8, 50, endpoint=True)\n",
    "\n",
    "C =  (n // 4) * np.exp(- param* X)\n",
    "plt.plot(X, param * C)\n",
    "plt.show()"
   ]
  },
  {
   "cell_type": "markdown",
   "id": "8477a46e",
   "metadata": {
    "id": "Tgzc6QjxdiZN"
   },
   "source": [
    "### Задача 6\n",
    "Обоснуйте (устно), что метод accept-reject действительно производит выборку из нужного распределения. Смоделируйте 1000 точек из распределения с плотностью $e^xcos^2x$ на отрезке $[-\\pi/2, \\pi/2]$. По выборке постройте график выборочной гистограммы и сравните его с графиком точной функции плотности."
   ]
  },
  {
   "cell_type": "code",
   "execution_count": 8,
   "id": "3f97af30",
   "metadata": {
    "id": "O6uRvW8pdiZP"
   },
   "outputs": [
    {
     "data": {
      "image/png": "[encoded data removed]",
      "text/plain": [
       "<Figure size 576x576 with 1 Axes>"
      ]
     },
     "metadata": {
      "needs_background": "light"
     },
     "output_type": "display_data"
    }
   ],
   "source": [
    "def density(x):\n",
    "    return 5 / (4 * math.sinh(np.pi / 2)) * (np.exp(x) * (np.cos(x) ** 2))\n",
    "def standart_density(x):\n",
    "    return (1 / np.sqrt(2 * np.pi)) * np.exp(-(x)**2 / 2)\n",
    "def helper(f, g, c, y):\n",
    "    return f(y) / (c * g(y))\n",
    "\n",
    "def AR_alg(f, a, b, n):\n",
    "    c = 76.2308\n",
    "    res = []\n",
    "    while(1):\n",
    "        norm_distr =  np.random.normal(0, 1, n)\n",
    "        unif_distr = np.random.rand(n)\n",
    "        for i in range(n):\n",
    "            if ((norm_distr[i] >= -np.pi/2) and (norm_distr[i] <= np.pi/2)):\n",
    "                if (helper(f, standart_density, c, norm_distr[i]) > unif_distr[i]):\n",
    "                    res.append(norm_distr[i])\n",
    "        if (len(res) >= n):\n",
    "            return res\n",
    "    \n",
    "res = AR_alg(density, -np.pi / 2, np.pi / 2, 2000)\n",
    "fig = plt.subplots(figsize=(8, 8))\n",
    "plt.hist(res, 20)\n",
    "\n",
    "X = np.linspace(-np.pi/2, np.pi/2, 50, endpoint=True)\n",
    "Y = density(X)\n",
    "plt.plot(X, 270*Y)\n",
    "\n",
    "plt.show()"
   ]
  },
  {
   "cell_type": "markdown",
   "id": "8e7ddc65",
   "metadata": {
    "id": "kq8tMmPYdiZS"
   },
   "source": [
    "##  Coordinate transformation method\n",
    "\n",
    "Метод аccept-reject в ряде случаев может оказываться неэффективным и требовать слишком много пробных точек. Альтернатива -  попробовать найти преобразование координат, которое переводит простую область (из которой легко сэмплить, например, едининчный квадрат) в требуемую, но при этом сохраняет соотношение площадей (зачем?)."
   ]
  },
  {
   "cell_type": "markdown",
   "id": "d5fe4f4e",
   "metadata": {
    "id": "xGIRsM7KdiZS"
   },
   "source": [
    "### Задача 7\n",
    "Смоделировать и изобразить выборку из 500 точек равномерно распределенных внутри данного треугольника без использования метода отбора. "
   ]
  },
  {
   "cell_type": "code",
   "execution_count": 67,
   "id": "38196b4e",
   "metadata": {
    "id": "V-aQwOVvdiZT",
    "outputId": "d6e9958f-57ab-4224-9974-13bc6b7bc351"
   },
   "outputs": [
    {
     "data": {
      "image/png": "[encoded data removed]",
      "text/plain": [
       "<Figure size 432x288 with 1 Axes>"
      ]
     },
     "metadata": {},
     "output_type": "display_data"
    }
   ],
   "source": [
    "%matplotlib inline\n",
    "from matplotlib.patches import Polygon\n",
    "from matplotlib.collections import PatchCollection\n",
    "\n",
    "samp = np.random.rand(1000).reshape((-1,2))\n",
    "for i in range(500):\n",
    "    if samp[i][0] + samp[i][1] > 1:\n",
    "        samp[i][0] = 1 - samp[i][0]\n",
    "        samp[i][1] = 1 - samp[i][1]\n",
    "     \n",
    "a=np.array([1, 2])\n",
    "b=np.array([1, 4])\n",
    "c=np.array([7, -1])\n",
    "\n",
    "points=[]\n",
    "for i in range(500):\n",
    "    points.append(a + samp[i][0] * c + samp[i][1] * b)\n",
    "points=np.array(points)\n",
    "fig = plt.figure()\n",
    "fig.patch.set_facecolor('xkcd:white')\n",
    "\n",
    "polygon = Polygon(np.array([[1, 2], [2, 6], [8, 1]]), True)\n",
    "plt.gca().add_collection(PatchCollection([polygon]))\n",
    "plt.scatter(points[:,0], points[:,1], s=2 ,c='black')\n",
    "plt.axis('equal')\n",
    "plt.show()"
   ]
  },
  {
   "cell_type": "markdown",
   "id": "aaeed08d",
   "metadata": {
    "id": "p69CWYlBdiZW"
   },
   "source": [
    "### Задача 8\n",
    "Смоделировать без использования метода отбора выборку из 500 точек равномерно распределенных внутри единичного круга. Изобразите полученные точки. Они действительно равномерно заполняют круг?"
   ]
  },
  {
   "cell_type": "code",
   "execution_count": 73,
   "id": "792485a9",
   "metadata": {
    "id": "trOeYSO9diZW",
    "outputId": "aaa9d07a-96da-4f86-cd68-06c5a5da7c2d"
   },
   "outputs": [
    {
     "data": {
      "image/png": "[encoded data removed]",
      "text/plain": [
       "<Figure size 432x288 with 1 Axes>"
      ]
     },
     "metadata": {},
     "output_type": "display_data"
    }
   ],
   "source": [
    "%matplotlib inline\n",
    "n = 500\n",
    "angle = np.random.rand(n) * 2 * np.pi\n",
    "radius = np.sqrt(np.random.rand(n))\n",
    "res = np.array([np.array([radius[i] * np.cos(angle[i]), radius[i] * np.sin(angle[i])]) for i in range(n)])\n",
    "\n",
    "fig = plt.figure()\n",
    "fig.patch.set_facecolor('xkcd:white')\n",
    "\n",
    "t = np.linspace(0, 2 * np.pi, 100)\n",
    "plt.plot(np.sin(t), np.cos(t))\n",
    "plt.axis('equal')\n",
    "plt.scatter(res[:,0], res[:,1], s=4, c=\"red\")\n",
    "plt.show()"
   ]
  },
  {
   "cell_type": "markdown",
   "id": "9c04c4c5",
   "metadata": {
    "id": "FV7suL2pdiZa"
   },
   "source": [
    "## Random normal generator"
   ]
  },
  {
   "cell_type": "markdown",
   "id": "2e694ae0",
   "metadata": {
    "id": "YalKYO-bdiZb"
   },
   "source": [
    "### Задача 9\n",
    "Докажите (устно), что приведенный ниже алгоритм (Box-Muller algorithm) формирует выборку из независимых N(0,1) случаных величин. Модифицируйте метод, чтобы исключить вызовы тригонометрических функций ```np.sin``` и ```np.cos```. С помощью модифицированного метода смоделируйте выборку объема 1000 из двумерного гауссовского распределения со средним [4, 7] и ковариационной матрицей [[20,  -4],\n",
    "       [ -4, 40]]. Постройте 2D гистограмму полученного распределения. Сравните выборочное среднее и ковариационную матрицу с точными значениями."
   ]
  },
  {
   "cell_type": "code",
   "execution_count": 111,
   "id": "1b1883ab",
   "metadata": {
    "id": "L2ZJeRoJdiZc",
    "outputId": "5d57c746-0ffd-48d1-de6e-c4276349b305",
    "scrolled": true
   },
   "outputs": [
    {
     "data": {
      "image/png": "[encoded data removed]",
      "text/plain": [
       "<Figure size 432x288 with 1 Axes>"
      ]
     },
     "metadata": {
      "needs_background": "light"
     },
     "output_type": "display_data"
    },
    {
     "name": "stdout",
     "output_type": "stream",
     "text": [
      "Выборочное среднее [3.84684187 6.86779701]\n",
      "Выборочная ковариация [[19.11840715 -3.83320845]\n",
      " [-3.83320845 40.73413651]]\n"
     ]
    }
   ],
   "source": [
    "%matplotlib inline\n",
    "n=1000\n",
    "def boxmuller(n):\n",
    "    l=[]\n",
    "    i=0\n",
    "    while i <n:\n",
    "        x = np.random.rand() * 2 - 1\n",
    "        y = np.random.rand() * 2 - 1\n",
    "        s = x**2 + y**2\n",
    "        if s>0 and s<=1:\n",
    "            l.append(x*math.sqrt(-2*math.log(s)/s))\n",
    "            l.append(y*math.sqrt(-2*math.log(s)/s))\n",
    "            i+=1\n",
    "    return l\n",
    "\n",
    "\n",
    "sample=np.array(boxmuller(n)).reshape((-1,2))\n",
    "a = np.array([20, -4, -4, 40]).reshape((2, 2))\n",
    "b = np.linalg.cholesky(a)\n",
    "sample2=np.transpose(np.dot(b, np.transpose(sample)))+np.full((n, 2), [4, 7])\n",
    "fig = plt.figure()\n",
    "\n",
    "plt.hist2d(sample2[:,0], sample2[:,1])\n",
    "plt.show()\n",
    "print(\"Выборочное среднее\", np.mean(sample2, axis=0))\n",
    "print(\"Выборочная ковариация\", np.cov(sample2, rowvar=False))"
   ]
  }
 ],
 "metadata": {
  "kernelspec": {
   "display_name": "Python 3 (ipykernel)",
   "language": "python",
   "name": "python3"
  },
  "language_info": {
   "codemirror_mode": {
    "name": "ipython",
    "version": 3
   },
   "file_extension": ".py",
   "mimetype": "text/x-python",
   "name": "python",
   "nbconvert_exporter": "python",
   "pygments_lexer": "ipython3",
   "version": "3.9.12"
  },
  "vscode": {
   "interpreter": {
    "hash": "fe3e2e4cba1fe2ca75dae6c481fe21229e83ac3d6dcf456a2846dc3bcef2b7a4"
   }
  }
 },
 "nbformat": 4,
 "nbformat_minor": 5
}
