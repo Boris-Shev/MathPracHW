{
 "cells": [
  {
   "cell_type": "markdown",
   "id": "04efc090",
   "metadata": {},
   "source": [
    "# FizzBuzz Interview Question"
   ]
  },
  {
   "cell_type": "code",
   "execution_count": 3,
   "id": "f24c004a",
   "metadata": {},
   "outputs": [],
   "source": [
    "class Test:\n",
    "    @staticmethod\n",
    "    def assert_equals(a, b, *args, **kwargs):\n",
    "        assert a == b\n",
    "        print('Passed')"
   ]
  },
  {
   "cell_type": "markdown",
   "id": "cb359eef",
   "metadata": {},
   "source": [
    "https://edabit.com/challenge/WXqH9qvvGkmx4dMvp (2 point)"
   ]
  },
  {
   "cell_type": "code",
   "execution_count": 1,
   "id": "8a48f4d6",
   "metadata": {},
   "outputs": [],
   "source": [
    "def fizz_buzz(n):\n",
    "    if(n % 3 == 0):\n",
    "        if(n % 5 == 0):\n",
    "            return \"FizzBuzz\"\n",
    "        else:\n",
    "            return \"Fizz\"\n",
    "    if(n % 5 == 0):\n",
    "        return \"Buzz\"\n",
    "    return str(n)"
   ]
  },
  {
   "cell_type": "code",
   "execution_count": 4,
   "id": "0c5b1ccb",
   "metadata": {},
   "outputs": [
    {
     "name": "stdout",
     "output_type": "stream",
     "text": [
      "Passed\n",
      "Passed\n",
      "Passed\n",
      "Passed\n",
      "Passed\n"
     ]
    }
   ],
   "source": [
    "Test.assert_equals(fizz_buzz(3), \"Fizz\", \"You gave \" + fizz_buzz(3) + \" and Fizz was needed\")\n",
    "Test.assert_equals(fizz_buzz(5), \"Buzz\", \"You gave \" + fizz_buzz(5) + \" and Buzz was needed\")\n",
    "Test.assert_equals(fizz_buzz(15), \"FizzBuzz\", \"You gave \" + fizz_buzz(15) + \" and FizzBuzz was needed\")\n",
    "Test.assert_equals(fizz_buzz(10), \"Buzz\", \"You gave \" + fizz_buzz(10) + \" and Buzz was needed\")\n",
    "Test.assert_equals(fizz_buzz(98), \"98\", \"You gave \" + fizz_buzz(98) + \" and 98 was needed\")"
   ]
  },
  {
   "cell_type": "code",
   "execution_count": null,
   "id": "5d63ffd4",
   "metadata": {},
   "outputs": [],
   "source": []
  }
 ],
 "metadata": {
  "kernelspec": {
   "display_name": "Python 3 (ipykernel)",
   "language": "python",
   "name": "python3"
  },
  "language_info": {
   "codemirror_mode": {
    "name": "ipython",
    "version": 3
   },
   "file_extension": ".py",
   "mimetype": "text/x-python",
   "name": "python",
   "nbconvert_exporter": "python",
   "pygments_lexer": "ipython3",
   "version": "3.9.12"
  }
 },
 "nbformat": 4,
 "nbformat_minor": 5
}
