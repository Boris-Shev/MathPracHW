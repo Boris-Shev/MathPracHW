{
 "cells": [
  {
   "cell_type": "markdown",
   "id": "04efc090",
   "metadata": {},
   "source": [
    "# Sum of Resistance in Series Circuits"
   ]
  },
  {
   "cell_type": "code",
   "execution_count": 2,
   "id": "f24c004a",
   "metadata": {},
   "outputs": [],
   "source": [
    "class Test:\n",
    "    @staticmethod\n",
    "    def assert_equals(a, b, *args, **kwargs):\n",
    "        assert a == b\n",
    "        print('Passed')"
   ]
  },
  {
   "cell_type": "markdown",
   "id": "cb359eef",
   "metadata": {},
   "source": [
    "https://edabit.com/challenge/gzmFeaXwFv8X6pBGq (1 point)"
   ]
  },
  {
   "cell_type": "code",
   "execution_count": 20,
   "id": "8a48f4d6",
   "metadata": {},
   "outputs": [],
   "source": [
    "def series_resistance(arr):\n",
    "    res = 0\n",
    "    for i in arr:\n",
    "        res += i\n",
    "    if(res <= 1):\n",
    "        return str(res) + \" ohm\"\n",
    "    else:\n",
    "        return str(res) + \" ohms\""
   ]
  },
  {
   "cell_type": "code",
   "execution_count": 22,
   "id": "0c5b1ccb",
   "metadata": {},
   "outputs": [
    {
     "name": "stdout",
     "output_type": "stream",
     "text": [
      "Passed\n",
      "Passed\n",
      "Passed\n",
      "Passed\n",
      "Passed\n",
      "Passed\n",
      "Passed\n",
      "Passed\n",
      "Passed\n"
     ]
    }
   ],
   "source": [
    "Test.assert_equals(series_resistance([1, 5, 6, 3]), \"15 ohms\")\n",
    "Test.assert_equals(series_resistance([0.2, 0.3, 0.4]), \"0.9 ohm\")\n",
    "Test.assert_equals(series_resistance([10,12, 1, 10]), \"33 ohms\")\n",
    "Test.assert_equals(series_resistance([10,13, 3.8, 20, 10]), \"56.8 ohms\")\n",
    "Test.assert_equals(series_resistance([0.5, 0.5]), \"1.0 ohm\")\n",
    "Test.assert_equals(series_resistance([16, 30, 22.8, 4]), \"72.8 ohms\")\n",
    "Test.assert_equals(series_resistance([20, 15, 32.5, 2]), \"69.5 ohms\")\n",
    "Test.assert_equals(series_resistance([52, 22, 20, 30]), \"124 ohms\")\n",
    "Test.assert_equals(series_resistance([10, 12, 32, 4.9, 5, 6, 71]), \"140.9 ohms\")"
   ]
  },
  {
   "cell_type": "code",
   "execution_count": null,
   "id": "fcf356bf",
   "metadata": {},
   "outputs": [],
   "source": []
  }
 ],
 "metadata": {
  "kernelspec": {
   "display_name": "Python 3 (ipykernel)",
   "language": "python",
   "name": "python3"
  },
  "language_info": {
   "codemirror_mode": {
    "name": "ipython",
    "version": 3
   },
   "file_extension": ".py",
   "mimetype": "text/x-python",
   "name": "python",
   "nbconvert_exporter": "python",
   "pygments_lexer": "ipython3",
   "version": "3.9.12"
  }
 },
 "nbformat": 4,
 "nbformat_minor": 5
}
