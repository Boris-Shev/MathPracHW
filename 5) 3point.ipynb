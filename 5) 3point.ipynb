{
 "cells": [
  {
   "cell_type": "markdown",
   "id": "04efc090",
   "metadata": {},
   "source": [
    "# How Many \"Prime Numbers\" Are There?"
   ]
  },
  {
   "cell_type": "code",
   "execution_count": 1,
   "id": "f24c004a",
   "metadata": {},
   "outputs": [],
   "source": [
    "class Test:\n",
    "    @staticmethod\n",
    "    def assert_equals(a, b, *args, **kwargs):\n",
    "        assert a == b\n",
    "        print('Passed')"
   ]
  },
  {
   "cell_type": "markdown",
   "id": "cb359eef",
   "metadata": {},
   "source": [
    "https://edabit.com/challenge/oTzuXDWL26gnY5a5P (3 point)"
   ]
  },
  {
   "cell_type": "code",
   "execution_count": 72,
   "id": "64df2779",
   "metadata": {},
   "outputs": [],
   "source": [
    "import math\n",
    "def prime_numbers(n):\n",
    "    if(n <= 1):\n",
    "        return 0\n",
    "    k = 1\n",
    "    lim = math.floor(math.sqrt(n))\n",
    "    nums = [i for i in range(1, n + 2)]\n",
    "    for i in range(2, lim + 1):\n",
    "        if(nums[i] == 0):\n",
    "            continue\n",
    "        k += 1\n",
    "        for j in range(2, (n//i) + 1):\n",
    "            nums[i*j] = 0\n",
    "    j=-1\n",
    "    for i in range(1, n + 1):\n",
    "        if(nums[i] == 0):\n",
    "            continue\n",
    "        j += 1\n",
    "    return j"
   ]
  },
  {
   "cell_type": "code",
   "execution_count": 73,
   "id": "69fe8c7f",
   "metadata": {},
   "outputs": [
    {
     "name": "stdout",
     "output_type": "stream",
     "text": [
      "Passed\n",
      "Passed\n",
      "Passed\n",
      "Passed\n",
      "Passed\n",
      "Passed\n",
      "Passed\n",
      "Passed\n",
      "Passed\n"
     ]
    }
   ],
   "source": [
    "Test.assert_equals(prime_numbers(20), 8)\n",
    "Test.assert_equals(prime_numbers(30), 10)\n",
    "Test.assert_equals(prime_numbers(100), 25)\n",
    "Test.assert_equals(prime_numbers(200), 46)\n",
    "Test.assert_equals(prime_numbers(1000), 168)\n",
    "Test.assert_equals(prime_numbers(-5), 0)\n",
    "Test.assert_equals(prime_numbers(66), 18)\n",
    "Test.assert_equals(prime_numbers(133), 32)\n",
    "Test.assert_equals(prime_numbers(99), 25)"
   ]
  },
  {
   "cell_type": "code",
   "execution_count": null,
   "id": "0f296708",
   "metadata": {},
   "outputs": [],
   "source": []
  }
 ],
 "metadata": {
  "kernelspec": {
   "display_name": "Python 3 (ipykernel)",
   "language": "python",
   "name": "python3"
  },
  "language_info": {
   "codemirror_mode": {
    "name": "ipython",
    "version": 3
   },
   "file_extension": ".py",
   "mimetype": "text/x-python",
   "name": "python",
   "nbconvert_exporter": "python",
   "pygments_lexer": "ipython3",
   "version": "3.9.12"
  }
 },
 "nbformat": 4,
 "nbformat_minor": 5
}
